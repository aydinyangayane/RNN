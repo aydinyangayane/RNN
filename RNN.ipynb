{
 "cells": [
  {
   "cell_type": "code",
   "execution_count": null,
   "id": "1d7b3f74",
   "metadata": {},
   "outputs": [],
   "source": [
    "import numpy as np\n",
    "\n",
    "class RNN:\n",
    "    def __init__(self, input_size, hidden_size):\n",
    "        self.input_size = input_size\n",
    "        self.hidden_size = hidden_size\n",
    "        self.weights_z = np.random.randn(hidden_size, hidden_size + input_size) / np.sqrt(hidden_size + input_size)\n",
    "        self.weights_r = np.random.randn(hidden_size, hidden_size + input_size) / np.sqrt(hidden_size + input_size)\n",
    "        self.weights_h = np.random.randn(hidden_size, hidden_size + input_size) / np.sqrt(hidden_size + input_size)\n",
    "        self.bias_z = np.zeros((hidden_size, 1))\n",
    "        self.bias_r = np.zeros((hidden_size, 1))\n",
    "        self.bias_h = np.zeros((hidden_size, 1))\n",
    "\n",
    "    def forward_propagation(self, inp_t, prev_h):\n",
    "        self.inp_t = inp_t\n",
    "        self.prev_h = prev_h\n",
    "        z = np.concatenate((self.prev_h, self.inp_t), axis = 0)\n",
    "        ug = self.sigmoid(np.dot(self.weights_z, z) + self.bias_z)\n",
    "        rg = self.sigmoid(np.dot(self.weights_r, z) + self.bias_r)\n",
    "        c_hid = np.tanh(np.dot(self.weights_h, z) + self.bias_h)\n",
    "        h_t = (1 - ug) * prev_h + ug * c_hid\n",
    "        self.prev_h = h_t \n",
    "        return h_t\n",
    "\n",
    "    def sigmoid(self, z):\n",
    "        return 1 / (1 + np.exp(-z))\n",
    "\n",
    "    def train(self, inputs, targets, learning_rate = 0.1, num_epochs = 100, gradient_clip = 1.0, learning_rate_decay = 0.1):\n",
    "        for epoch in range(num_epochs):\n",
    "            loss = 0\n",
    "            h_prev = np.zeros((self.hidden_size, 1))\n",
    "            for t in range(len(inputs)):\n",
    "                x_t = inputs[t]\n",
    "                y_t = targets[t]\n",
    "                h_t = self.forward_propagation(x_t, h_prev)\n",
    "                loss += np.sum(np.square(y_t - h_t))\n",
    "                delta_t = -2 * (y_t - h_t)\n",
    "                dz = delta_t * h_t * (1 - h_t)\n",
    "                dw_z = np.outer(dz, np.concatenate((h_prev, x_t)))\n",
    "                self.weights_z -= learning_rate * np.clip(dw_z, -gradient_clip, gradient_clip)\n",
    "                self.bias_z -= learning_rate * np.clip(dz, -gradient_clip, gradient_clip)\n",
    "\n",
    "                dr = np.dot(self.weights_h.T, dz) * h_prev * (1 - h_prev)\n",
    "                dw_r = np.outer(dr, np.concatenate((h_prev, x_t)))\n",
    "                self.weights_r -= learning_rate * np.clip(dw_r, -gradient_clip, gradient_clip)\n",
    "                self.bias_r -= learning_rate * np.clip(dr, -gradient_clip, gradient_clip)\n",
    "\n",
    "                dh = np.dot(self.weights_r.T, dr) + np.dot(self.weights_z.T, dz)\n",
    "                dc_hid = dh * h_prev * (1 - np.square(np.tanh(np.dot(self.weights_h, np.concatenate((h_prev, x_t))))))\n",
    "\n",
    "                dw_h = np.outer(dc_hid, np.concatenate((h_prev, x_t)))\n",
    "                self.weights_h -= learning_rate * np.clip(dw_h, -gradient_clip, gradient_clip)\n",
    "                self.bias_h -= learning_rate * np.clip(dc_hid, -gradient_clip, gradient_clip)\n",
    "\n",
    "                h_prev = h_t\n",
    "            learning_rate *= (1.0 / (1.0 + learning_rate_decay * epoch))\n",
    "            \n",
    "            print(f\"Epoch: {epoch + 1}, Loss: {loss}\")"
   ]
  },
  {
   "cell_type": "code",
   "execution_count": null,
   "id": "38e5d054",
   "metadata": {},
   "outputs": [],
   "source": [
    "with open('C:/Users/ASUS/OneDrive - Ayb Educational Foundation/Desktop/lotr.txt', 'r') as file:\n",
    "    text = file.read()"
   ]
  },
  {
   "cell_type": "code",
   "execution_count": null,
   "id": "a03fda3e",
   "metadata": {},
   "outputs": [],
   "source": [
    "import re\n",
    "\n",
    "text = text.lower()\n",
    "text = re.sub(r'[^a-z\\s]', '', text)"
   ]
  },
  {
   "cell_type": "code",
   "execution_count": null,
   "id": "4cc62295",
   "metadata": {},
   "outputs": [],
   "source": [
    "sequence_length = 10\n",
    "\n",
    "inputs = []\n",
    "targets = []\n",
    "\n",
    "for i in range(len(text) - sequence_length):\n",
    "    inputs.append(text[i:i + sequence_length])\n",
    "    targets.append(text[i + sequence_length])"
   ]
  },
  {
   "cell_type": "code",
   "execution_count": null,
   "id": "4ebb1c4c",
   "metadata": {},
   "outputs": [],
   "source": [
    "characters = sorted(list(set(text)))\n",
    "input_size = len(characters)"
   ]
  },
  {
   "cell_type": "code",
   "execution_count": null,
   "id": "f775ebc1",
   "metadata": {},
   "outputs": [],
   "source": [
    "char_to_index = {char: i for i, char in enumerate(characters)}\n",
    "index_to_char = {i: char for i, char in enumerate(characters)}"
   ]
  },
  {
   "cell_type": "code",
   "execution_count": null,
   "id": "39368367",
   "metadata": {},
   "outputs": [],
   "source": [
    "inputs_numeric = np.zeros((len(inputs), sequence_length, input_size), dtype = np.float32)\n",
    "targets_numeric = np.zeros((len(targets), input_size), dtype = np.float32)"
   ]
  },
  {
   "cell_type": "code",
   "execution_count": null,
   "id": "1a9d3f82",
   "metadata": {},
   "outputs": [],
   "source": [
    "for i, (input_text, target_text) in enumerate(zip(inputs, targets)):\n",
    "    for t, char in enumerate(input_text):\n",
    "        inputs_numeric[i, t, char_to_index[char]] = 1.0\n",
    "    targets_numeric[i, char_to_index[target_text]] = 1.0"
   ]
  },
  {
   "cell_type": "code",
   "execution_count": null,
   "id": "e039cc86",
   "metadata": {},
   "outputs": [],
   "source": [
    "rnn = RNN(input_size, 256)\n",
    "rnn.train(inputs_numeric, targets_numeric, learning_rate = 0.1, num_epochs = 100)"
   ]
  }
 ],
 "metadata": {
  "kernelspec": {
   "display_name": "Python 3 (ipykernel)",
   "language": "python",
   "name": "python3"
  },
  "language_info": {
   "codemirror_mode": {
    "name": "ipython",
    "version": 3
   },
   "file_extension": ".py",
   "mimetype": "text/x-python",
   "name": "python",
   "nbconvert_exporter": "python",
   "pygments_lexer": "ipython3",
   "version": "3.9.13"
  }
 },
 "nbformat": 4,
 "nbformat_minor": 5
}
